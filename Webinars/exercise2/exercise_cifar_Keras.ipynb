{
  "nbformat": 4,
  "nbformat_minor": 0,
  "metadata": {
    "colab": {
      "name": "exercise_cifar_Keras.ipynb",
      "provenance": [],
      "include_colab_link": true
    },
    "kernelspec": {
      "name": "python3",
      "display_name": "Python 3"
    }
  },
  "cells": [
    {
      "cell_type": "markdown",
      "metadata": {
        "id": "view-in-github",
        "colab_type": "text"
      },
      "source": [
        "<a href=\"https://colab.research.google.com/github/kreshuklab/teaching-dl-course-2019/blob/master/Webinars/exercise2/exercise_cifar_Keras.ipynb\" target=\"_parent\"><img src=\"https://colab.research.google.com/assets/colab-badge.svg\" alt=\"Open In Colab\"/></a>"
      ]
    },
    {
      "cell_type": "markdown",
      "metadata": {
        "id": "10TgeswTGLz0",
        "colab_type": "text"
      },
      "source": [
        "Now you should apply the same principles you've seen in the example Notebook to the [CIFAR10 data](https://www.cs.toronto.edu/~kriz/cifar.html). \n",
        "First of all let's load the libraries."
      ]
    },
    {
      "cell_type": "code",
      "metadata": {
        "id": "DC0coesMGG5N",
        "colab_type": "code",
        "colab": {}
      },
      "source": [
        "# to show images directly in the notebook\n",
        "%matplotlib inline\n",
        "import numpy as np    # scientific computing \n",
        "import matplotlib.pyplot as plt   # plotting and visualisation\n",
        "# import keras and its libraries\n",
        "from keras.models import Sequential # Model type to be used\n",
        "from keras.layers import Dense, Activation, Dropout, Conv2D, MaxPooling2D, Flatten  # Making a model\n",
        "from keras.utils import np_utils  # NumPy related tools\n",
        "!pip install tensorboardcolab\n",
        "from tensorboardcolab import TensorBoardColab, TensorBoardColabCallback #Visulization of Accuracy and loss\n",
        "from keras.datasets import cifar10\n",
        "import random \n",
        "# to display tensorboard directly in the notebook\n",
        "%load_ext tensorboard"
      ],
      "execution_count": 0,
      "outputs": []
    },
    {
      "cell_type": "markdown",
      "metadata": {
        "id": "3AowkmHSGoUZ",
        "colab_type": "text"
      },
      "source": [
        "Now fill in the following cells to make the notebook run:"
      ]
    },
    {
      "cell_type": "markdown",
      "metadata": {
        "id": "69BPNc_1IgJK",
        "colab_type": "text"
      },
      "source": [
        "__TASK__: download the cifar10 dataset (without transformations) and visualize it. Hint: you can find the cifar10 dataset in the keras datasets ([here](https://keras.io/datasets/))."
      ]
    },
    {
      "cell_type": "code",
      "metadata": {
        "id": "7RNYV7iNHDkQ",
        "colab_type": "code",
        "colab": {}
      },
      "source": [
        "(X_train, y_train), (X_val, y_val) = #ToDo\n",
        "\n",
        "plt.rcParams['figure.figsize'] = (5,5) # Make the figures a bit bigger\n",
        "\n",
        "for i in range(9):\n",
        "    plt.subplot(3,3,i+1)\n",
        "    num = random.randint(0, len(X_train))\n",
        "    plt.imshow(X_train[num], cmap='gray', interpolation='none')\n",
        "    plt.title(\"Class {}\".format(y_train[num]))\n",
        "    \n",
        "plt.tight_layout()"
      ],
      "execution_count": 0,
      "outputs": []
    },
    {
      "cell_type": "markdown",
      "metadata": {
        "id": "Aeik_nrLI2xO",
        "colab_type": "text"
      },
      "source": [
        "__TASK__: now create a list transformations. Please note that in comparison to MNIST this dataset has 3 channels (RGB), and the proper way to normalize it would be to calculate mean and standard deviation for each channel separately.\n",
        "\n",
        "Hint: use the following values (calculated on the whole dataset) to normalize (after transferring pixel values from 0-255 to 0-1 like the one in MNIST example):\n",
        "\n",
        "`mean = [0.4914, 0.4822, 0.4465]`\n",
        "\n",
        "`std = [0.2470, 0.2435, 0.2616]`"
      ]
    },
    {
      "cell_type": "code",
      "metadata": {
        "id": "W2qK5koNH0RF",
        "colab_type": "code",
        "colab": {}
      },
      "source": [
        "X_train = #ToDo\n",
        "\n",
        "X_val = #ToDo"
      ],
      "execution_count": 0,
      "outputs": []
    },
    {
      "cell_type": "markdown",
      "metadata": {
        "id": "TXKkLZksMIu2",
        "colab_type": "text"
      },
      "source": [
        "__TASK__: Now change the type of classes to the one-hot format"
      ]
    },
    {
      "cell_type": "code",
      "metadata": {
        "id": "5LAiQfvvI0V_",
        "colab_type": "code",
        "colab": {}
      },
      "source": [
        "Y_train = #ToDo\n",
        "Y_val = #ToDo"
      ],
      "execution_count": 0,
      "outputs": []
    },
    {
      "cell_type": "markdown",
      "metadata": {
        "id": "kicNlMkn1iX5",
        "colab_type": "text"
      },
      "source": [
        "__TASK__: Create a tensorboard summary writer, start the tensorboard in your browser. Hint: You can take it from the script of \"Mnist_DL_Example_Keras\"."
      ]
    },
    {
      "cell_type": "code",
      "metadata": {
        "id": "0FMR_YSrOoP7",
        "colab_type": "code",
        "colab": {}
      },
      "source": [
        "tbcCNN=#ToDo"
      ],
      "execution_count": 0,
      "outputs": []
    },
    {
      "cell_type": "markdown",
      "metadata": {
        "id": "ayZeJWYj1tOe",
        "colab_type": "text"
      },
      "source": [
        "__TASK__: write a model (or take one from the example Notebook) and train it for 10 epochs. Note: keep in mind that the input size is different for CIFAR."
      ]
    },
    {
      "cell_type": "code",
      "metadata": {
        "id": "pgzgJmasPvE2",
        "colab_type": "code",
        "colab": {}
      },
      "source": [
        "modelCNN = Sequential([\n",
        "    \n",
        "    #ToDo\n",
        "])\n",
        "modelCNN.summary()"
      ],
      "execution_count": 0,
      "outputs": []
    },
    {
      "cell_type": "code",
      "metadata": {
        "id": "Y-U8dhPyNgRT",
        "colab_type": "code",
        "colab": {}
      },
      "source": [
        "modelCNN.compile(#ToDo)\n",
        "\n",
        "modelCNN.fit(#ToDo)"
      ],
      "execution_count": 0,
      "outputs": []
    },
    {
      "cell_type": "markdown",
      "metadata": {
        "id": "xxKPbZE33tiF",
        "colab_type": "text"
      },
      "source": [
        "__TASK__: Increase/decrease the number of layers in your architecture (can be\n",
        "either fully connected network or CNN) to get the best performance of\n",
        "your model.\n",
        "\n",
        "\n",
        "__TASK__: Change hyperparameters such as [dropout](https://pytorch.org/docs/stable/nn.html#dropout-layers),\n",
        "[learning rate](https://pytorch.org/docs/stable/optim.html), [optimization functions](https://pytorch.org/docs/stable/optim.html#algorithms), ... to reach to the best performance on this classification task.\n",
        "\n",
        "\n",
        "__TASK__: Compare all your models by using the Tensorboard."
      ]
    }
  ]
}
