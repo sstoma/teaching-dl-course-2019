{
  "nbformat": 4,
  "nbformat_minor": 0,
  "metadata": {
    "colab": {
      "name": "Copy of cifar_master.ipynb",
      "provenance": [],
      "collapsed_sections": [],
      "include_colab_link": true
    },
    "kernelspec": {
      "name": "python3",
      "display_name": "Python 3"
    },
    "accelerator": "GPU"
  },
  "cells": [
    {
      "cell_type": "markdown",
      "metadata": {
        "id": "view-in-github",
        "colab_type": "text"
      },
      "source": [
        "<a href=\"https://colab.research.google.com/github/kreshuklab/teaching-dl-course-2019/blob/master/Webinars/exercise2/exercise_cifar_pytorch.ipynb\" target=\"_parent\"><img src=\"https://colab.research.google.com/assets/colab-badge.svg\" alt=\"Open In Colab\"/></a>"
      ]
    },
    {
      "cell_type": "markdown",
      "metadata": {
        "id": "10TgeswTGLz0",
        "colab_type": "text"
      },
      "source": [
        "Now you should apply the same principles you've seen in the example Notebook to the [CIFAR10 data](https://www.cs.toronto.edu/~kriz/cifar.html). \n",
        "First of all let's load the libraries."
      ]
    },
    {
      "cell_type": "code",
      "metadata": {
        "id": "DC0coesMGG5N",
        "colab_type": "code",
        "colab": {}
      },
      "source": [
        "# to show images directly in the notebook\n",
        "%matplotlib inline\n",
        "import numpy as np    # scientific computing \n",
        "import matplotlib.pyplot as plt   # plotting and visualisation\n",
        "# import torch and its libraries\n",
        "import torch  # main torch library for tensor functionality\n",
        "import torch.nn as nn  # layers, activation functions, etc\n",
        "import torch.nn.functional as F  # functions\n",
        "import torch.optim as optim  # optimizers\n",
        "from torchvision import datasets, transforms  # standard datasets, transformations\n",
        "from torch.utils.tensorboard import SummaryWriter # keeping track of training\n",
        "# to display tensorboard directly in the notebook\n",
        "%load_ext tensorboard"
      ],
      "execution_count": 0,
      "outputs": []
    },
    {
      "cell_type": "markdown",
      "metadata": {
        "id": "3AowkmHSGoUZ",
        "colab_type": "text"
      },
      "source": [
        "Now fill in the following cells to make the notebook run:"
      ]
    },
    {
      "cell_type": "markdown",
      "metadata": {
        "id": "69BPNc_1IgJK",
        "colab_type": "text"
      },
      "source": [
        "__TASK__: download the cifar10 dataset (without transformations) and visualize it. Hint: you can find the cifar10 dataset in the torchvision datasets."
      ]
    },
    {
      "cell_type": "code",
      "metadata": {
        "id": "7RNYV7iNHDkQ",
        "colab_type": "code",
        "colab": {}
      },
      "source": [
        "cifar_train = # TODO\n",
        "\n",
        "# plot 3 images as gray scale\n",
        "f, axarr = plt.subplots(1, 3)   # three images in a row\n",
        "axarr[0].imshow(np.asarray(cifar_train[0][0]))\n",
        "axarr[1].imshow(np.asarray(cifar_train[1][0]))\n",
        "axarr[2].imshow(np.asarray(cifar_train[2][0]))\n",
        "_ = [ax.axis('off') for ax in axarr]   # remove the axis ticks\n",
        "# show the plot\n",
        "plt.show()"
      ],
      "execution_count": 0,
      "outputs": []
    },
    {
      "cell_type": "markdown",
      "metadata": {
        "id": "Aeik_nrLI2xO",
        "colab_type": "text"
      },
      "source": [
        "__TASK__: now create a list transformations. Please note that in comparison to MNIST this dataset has 3 channels (RGB), and the proper way to normalize it would be to calculate mean and standard deviation for each channel separately.\n",
        "\n",
        "Hint: use the following values (calculated on the whole dataset) to normalize:\n",
        "\n",
        "`mean = [0.4914, 0.4822, 0.4465]`\n",
        "\n",
        "`std = [0.2470, 0.2435, 0.2616]`"
      ]
    },
    {
      "cell_type": "code",
      "metadata": {
        "id": "W2qK5koNH0RF",
        "colab_type": "code",
        "colab": {}
      },
      "source": [
        "trafos = # TODO\n",
        "\n",
        "train_loader = # TODO\n",
        "\n",
        "val_loader =  # TODO"
      ],
      "execution_count": 0,
      "outputs": []
    },
    {
      "cell_type": "markdown",
      "metadata": {
        "id": "TXKkLZksMIu2",
        "colab_type": "text"
      },
      "source": [
        "__TASK__: Now write the train and validate functions. You can use the function from the MNIST example as a template. You can also use the same loss. Please note that dimentions of the images are different now: `3*32*32`"
      ]
    },
    {
      "cell_type": "code",
      "metadata": {
        "id": "5LAiQfvvI0V_",
        "colab_type": "code",
        "colab": {}
      },
      "source": [
        "def train(model, loader, optimizer, epoch, log_interval=100, input_is_1d=False, tb_logger=None):\n",
        "   # TODO"
      ],
      "execution_count": 0,
      "outputs": []
    },
    {
      "cell_type": "code",
      "metadata": {
        "id": "yz8EYrILNhjF",
        "colab_type": "code",
        "colab": {}
      },
      "source": [
        "def validate(model, loader, step=None, input_is_1d=False, tb_logger=None):\n",
        "    # TODO\n"
      ],
      "execution_count": 0,
      "outputs": []
    },
    {
      "cell_type": "markdown",
      "metadata": {
        "id": "kicNlMkn1iX5",
        "colab_type": "text"
      },
      "source": [
        "__TASK__: Create a tensorboard summary writer, start the tensorboard in your browser."
      ]
    },
    {
      "cell_type": "code",
      "metadata": {
        "id": "0FMR_YSrOoP7",
        "colab_type": "code",
        "colab": {}
      },
      "source": [
        "writer = # TODO\n",
        "%tensorboard --logdir runs"
      ],
      "execution_count": 0,
      "outputs": []
    },
    {
      "cell_type": "markdown",
      "metadata": {
        "id": "ayZeJWYj1tOe",
        "colab_type": "text"
      },
      "source": [
        "__TASK__: write a model (or take one from the example Notebook) and train it for 10 epochs. Note: keep in mind that the input size is different for CIFAR."
      ]
    },
    {
      "cell_type": "code",
      "metadata": {
        "id": "pgzgJmasPvE2",
        "colab_type": "code",
        "colab": {}
      },
      "source": [
        "model = # TODO\n",
        "\n",
        "optimizer = # TODO\n",
        "n_epochs = 10\n",
        "for epoch in range(n_epochs):\n",
        "    # TODO"
      ],
      "execution_count": 0,
      "outputs": []
    },
    {
      "cell_type": "markdown",
      "metadata": {
        "id": "xxKPbZE33tiF",
        "colab_type": "text"
      },
      "source": [
        "__TASK__: Increase/decrease the number of layers in your architecture (can be\n",
        "either fully connected network or CNN) to get the best performance of\n",
        "your model.\n",
        "\n",
        "\n",
        "__TASK__: Change hyperparameters such as [dropout](https://pytorch.org/docs/stable/nn.html#dropout-layers),\n",
        "[learning rate](https://pytorch.org/docs/stable/optim.html), [optimization functions](https://pytorch.org/docs/stable/optim.html#algorithms), ... to reach to the best performance on this classification task.\n",
        "\n",
        "\n",
        "__TASK__: Compare all your models by using the Tensorboard."
      ]
    }
  ]
}